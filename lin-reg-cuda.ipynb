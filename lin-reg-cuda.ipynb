{
 "cells": [
  {
   "cell_type": "code",
   "execution_count": 1,
   "id": "3df0b06d",
   "metadata": {
    "_cell_guid": "b1076dfc-b9ad-4769-8c92-a6c4dae69d19",
    "_uuid": "8f2839f25d086af736a60e9eeb907d3b93b6e0e5",
    "execution": {
     "iopub.execute_input": "2022-02-14T05:13:23.309361Z",
     "iopub.status.busy": "2022-02-14T05:13:23.308574Z",
     "iopub.status.idle": "2022-02-14T05:13:29.129782Z",
     "shell.execute_reply": "2022-02-14T05:13:29.130209Z",
     "shell.execute_reply.started": "2022-02-14T05:04:26.620935Z"
    },
    "papermill": {
     "duration": 5.842244,
     "end_time": "2022-02-14T05:13:29.130463",
     "exception": false,
     "start_time": "2022-02-14T05:13:23.288219",
     "status": "completed"
    },
    "tags": []
   },
   "outputs": [
    {
     "data": {
      "text/html": [
       "<div>\n",
       "<style scoped>\n",
       "    .dataframe tbody tr th:only-of-type {\n",
       "        vertical-align: middle;\n",
       "    }\n",
       "\n",
       "    .dataframe tbody tr th {\n",
       "        vertical-align: top;\n",
       "    }\n",
       "\n",
       "    .dataframe thead th {\n",
       "        text-align: right;\n",
       "    }\n",
       "</style>\n",
       "<table border=\"1\" class=\"dataframe\">\n",
       "  <thead>\n",
       "    <tr style=\"text-align: right;\">\n",
       "      <th></th>\n",
       "      <th>CRIM</th>\n",
       "      <th>ZN</th>\n",
       "      <th>INDUS</th>\n",
       "      <th>CHAS</th>\n",
       "      <th>NOX</th>\n",
       "      <th>RM</th>\n",
       "      <th>AGE</th>\n",
       "      <th>DIS</th>\n",
       "      <th>RAD</th>\n",
       "      <th>TAX</th>\n",
       "      <th>PTRATIO</th>\n",
       "      <th>B</th>\n",
       "      <th>LSTAT</th>\n",
       "      <th>target</th>\n",
       "    </tr>\n",
       "  </thead>\n",
       "  <tbody>\n",
       "    <tr>\n",
       "      <th>0</th>\n",
       "      <td>0.00632</td>\n",
       "      <td>18.0</td>\n",
       "      <td>2.31</td>\n",
       "      <td>0.0</td>\n",
       "      <td>0.538</td>\n",
       "      <td>6.575</td>\n",
       "      <td>65.2</td>\n",
       "      <td>4.0900</td>\n",
       "      <td>1.0</td>\n",
       "      <td>296.0</td>\n",
       "      <td>15.3</td>\n",
       "      <td>396.90</td>\n",
       "      <td>4.98</td>\n",
       "      <td>24.0</td>\n",
       "    </tr>\n",
       "    <tr>\n",
       "      <th>1</th>\n",
       "      <td>0.02731</td>\n",
       "      <td>0.0</td>\n",
       "      <td>7.07</td>\n",
       "      <td>0.0</td>\n",
       "      <td>0.469</td>\n",
       "      <td>6.421</td>\n",
       "      <td>78.9</td>\n",
       "      <td>4.9671</td>\n",
       "      <td>2.0</td>\n",
       "      <td>242.0</td>\n",
       "      <td>17.8</td>\n",
       "      <td>396.90</td>\n",
       "      <td>9.14</td>\n",
       "      <td>21.6</td>\n",
       "    </tr>\n",
       "    <tr>\n",
       "      <th>2</th>\n",
       "      <td>0.02729</td>\n",
       "      <td>0.0</td>\n",
       "      <td>7.07</td>\n",
       "      <td>0.0</td>\n",
       "      <td>0.469</td>\n",
       "      <td>7.185</td>\n",
       "      <td>61.1</td>\n",
       "      <td>4.9671</td>\n",
       "      <td>2.0</td>\n",
       "      <td>242.0</td>\n",
       "      <td>17.8</td>\n",
       "      <td>392.83</td>\n",
       "      <td>4.03</td>\n",
       "      <td>34.7</td>\n",
       "    </tr>\n",
       "    <tr>\n",
       "      <th>3</th>\n",
       "      <td>0.03237</td>\n",
       "      <td>0.0</td>\n",
       "      <td>2.18</td>\n",
       "      <td>0.0</td>\n",
       "      <td>0.458</td>\n",
       "      <td>6.998</td>\n",
       "      <td>45.8</td>\n",
       "      <td>6.0622</td>\n",
       "      <td>3.0</td>\n",
       "      <td>222.0</td>\n",
       "      <td>18.7</td>\n",
       "      <td>394.63</td>\n",
       "      <td>2.94</td>\n",
       "      <td>33.4</td>\n",
       "    </tr>\n",
       "    <tr>\n",
       "      <th>4</th>\n",
       "      <td>0.06905</td>\n",
       "      <td>0.0</td>\n",
       "      <td>2.18</td>\n",
       "      <td>0.0</td>\n",
       "      <td>0.458</td>\n",
       "      <td>7.147</td>\n",
       "      <td>54.2</td>\n",
       "      <td>6.0622</td>\n",
       "      <td>3.0</td>\n",
       "      <td>222.0</td>\n",
       "      <td>18.7</td>\n",
       "      <td>396.90</td>\n",
       "      <td>5.33</td>\n",
       "      <td>36.2</td>\n",
       "    </tr>\n",
       "  </tbody>\n",
       "</table>\n",
       "</div>"
      ],
      "text/plain": [
       "      CRIM    ZN  INDUS  CHAS    NOX     RM   AGE     DIS  RAD    TAX  \\\n",
       "0  0.00632  18.0   2.31   0.0  0.538  6.575  65.2  4.0900  1.0  296.0   \n",
       "1  0.02731   0.0   7.07   0.0  0.469  6.421  78.9  4.9671  2.0  242.0   \n",
       "2  0.02729   0.0   7.07   0.0  0.469  7.185  61.1  4.9671  2.0  242.0   \n",
       "3  0.03237   0.0   2.18   0.0  0.458  6.998  45.8  6.0622  3.0  222.0   \n",
       "4  0.06905   0.0   2.18   0.0  0.458  7.147  54.2  6.0622  3.0  222.0   \n",
       "\n",
       "   PTRATIO       B  LSTAT  target  \n",
       "0     15.3  396.90   4.98    24.0  \n",
       "1     17.8  396.90   9.14    21.6  \n",
       "2     17.8  392.83   4.03    34.7  \n",
       "3     18.7  394.63   2.94    33.4  \n",
       "4     18.7  396.90   5.33    36.2  "
      ]
     },
     "execution_count": 1,
     "metadata": {},
     "output_type": "execute_result"
    }
   ],
   "source": [
    "import cudf as pd\n",
    "from sklearn.datasets import load_boston\n",
    "boston = load_boston()\n",
    "df = pd.DataFrame(data=boston.data, columns = ['CRIM', 'ZN', 'INDUS', 'CHAS', 'NOX', 'RM', 'AGE', 'DIS', 'RAD',\n",
    "        'TAX', 'PTRATIO', 'B', 'LSTAT'])\n",
    "df['target'] = boston.target\n",
    "df.head(5)"
   ]
  },
  {
   "cell_type": "code",
   "execution_count": 2,
   "id": "dbed2b71",
   "metadata": {
    "execution": {
     "iopub.execute_input": "2022-02-14T05:13:29.157549Z",
     "iopub.status.busy": "2022-02-14T05:13:29.156773Z",
     "iopub.status.idle": "2022-02-14T05:13:29.395536Z",
     "shell.execute_reply": "2022-02-14T05:13:29.395035Z",
     "shell.execute_reply.started": "2022-02-14T05:04:26.783119Z"
    },
    "papermill": {
     "duration": 0.255311,
     "end_time": "2022-02-14T05:13:29.395676",
     "exception": false,
     "start_time": "2022-02-14T05:13:29.140365",
     "status": "completed"
    },
    "tags": []
   },
   "outputs": [],
   "source": [
    "import cupy as np\n",
    "X=df.iloc[:,0:13]\n",
    "Y=df.iloc[:,13]\n",
    "Y=np.array(Y)\n",
    "Y=Y.reshape(-1,1)"
   ]
  },
  {
   "cell_type": "code",
   "execution_count": 3,
   "id": "d5f65fcd",
   "metadata": {
    "execution": {
     "iopub.execute_input": "2022-02-14T05:13:29.420498Z",
     "iopub.status.busy": "2022-02-14T05:13:29.419260Z",
     "iopub.status.idle": "2022-02-14T05:13:29.423278Z",
     "shell.execute_reply": "2022-02-14T05:13:29.422881Z",
     "shell.execute_reply.started": "2022-02-14T05:04:26.953234Z"
    },
    "papermill": {
     "duration": 0.018571,
     "end_time": "2022-02-14T05:13:29.423385",
     "exception": false,
     "start_time": "2022-02-14T05:13:29.404814",
     "status": "completed"
    },
    "tags": []
   },
   "outputs": [],
   "source": [
    "from sklearn.preprocessing import StandardScaler\n",
    "scaler=StandardScaler()\n",
    "X_scaled=scaler.fit_transform(X.as_matrix())"
   ]
  },
  {
   "cell_type": "code",
   "execution_count": 4,
   "id": "4ad34574",
   "metadata": {
    "execution": {
     "iopub.execute_input": "2022-02-14T05:13:29.446381Z",
     "iopub.status.busy": "2022-02-14T05:13:29.445820Z",
     "iopub.status.idle": "2022-02-14T05:13:29.450346Z",
     "shell.execute_reply": "2022-02-14T05:13:29.449930Z",
     "shell.execute_reply.started": "2022-02-14T05:04:27.124874Z"
    },
    "papermill": {
     "duration": 0.018461,
     "end_time": "2022-02-14T05:13:29.450447",
     "exception": false,
     "start_time": "2022-02-14T05:13:29.431986",
     "status": "completed"
    },
    "tags": []
   },
   "outputs": [
    {
     "data": {
      "text/plain": [
       "array([[-0.41978194,  0.28482986, -1.2879095 , ..., -1.45900038,\n",
       "         0.44105193, -1.0755623 ],\n",
       "       [-0.41733926, -0.48772236, -0.59338101, ..., -0.30309415,\n",
       "         0.44105193, -0.49243937],\n",
       "       [-0.41734159, -0.48772236, -0.59338101, ..., -0.30309415,\n",
       "         0.39642699, -1.2087274 ],\n",
       "       ...,\n",
       "       [-0.41344658, -0.48772236,  0.11573841, ...,  1.17646583,\n",
       "         0.44105193, -0.98304761],\n",
       "       [-0.40776407, -0.48772236,  0.11573841, ...,  1.17646583,\n",
       "         0.4032249 , -0.86530163],\n",
       "       [-0.41500016, -0.48772236,  0.11573841, ...,  1.17646583,\n",
       "         0.44105193, -0.66905833]])"
      ]
     },
     "execution_count": 4,
     "metadata": {},
     "output_type": "execute_result"
    }
   ],
   "source": [
    "X_scaled"
   ]
  },
  {
   "cell_type": "code",
   "execution_count": 5,
   "id": "862275dc",
   "metadata": {
    "execution": {
     "iopub.execute_input": "2022-02-14T05:13:29.473694Z",
     "iopub.status.busy": "2022-02-14T05:13:29.472981Z",
     "iopub.status.idle": "2022-02-14T05:13:29.753170Z",
     "shell.execute_reply": "2022-02-14T05:13:29.753702Z",
     "shell.execute_reply.started": "2022-02-14T05:04:27.268163Z"
    },
    "papermill": {
     "duration": 0.294245,
     "end_time": "2022-02-14T05:13:29.753883",
     "exception": false,
     "start_time": "2022-02-14T05:13:29.459638",
     "status": "completed"
    },
    "tags": []
   },
   "outputs": [],
   "source": [
    "from sklearn.model_selection import train_test_split\n",
    "X_train, X_test, y_train, y_test = train_test_split(X_scaled, Y, test_size=0.3, random_state=42)"
   ]
  },
  {
   "cell_type": "code",
   "execution_count": 6,
   "id": "d66a85c4",
   "metadata": {
    "execution": {
     "iopub.execute_input": "2022-02-14T05:13:29.777345Z",
     "iopub.status.busy": "2022-02-14T05:13:29.776833Z",
     "iopub.status.idle": "2022-02-14T05:13:29.780780Z",
     "shell.execute_reply": "2022-02-14T05:13:29.780320Z",
     "shell.execute_reply.started": "2022-02-14T05:04:27.447958Z"
    },
    "papermill": {
     "duration": 0.017812,
     "end_time": "2022-02-14T05:13:29.780893",
     "exception": false,
     "start_time": "2022-02-14T05:13:29.763081",
     "status": "completed"
    },
    "tags": []
   },
   "outputs": [
    {
     "name": "stdout",
     "output_type": "stream",
     "text": [
      "(354, 13)\n",
      "(152, 13)\n",
      "(354, 1)\n",
      "(152, 1)\n"
     ]
    }
   ],
   "source": [
    "print(X_train.shape)\n",
    "print(X_test.shape)\n",
    "print(y_train.shape)\n",
    "print(y_test.shape)"
   ]
  },
  {
   "cell_type": "code",
   "execution_count": 7,
   "id": "f860f107",
   "metadata": {
    "execution": {
     "iopub.execute_input": "2022-02-14T05:13:29.803068Z",
     "iopub.status.busy": "2022-02-14T05:13:29.802404Z",
     "iopub.status.idle": "2022-02-14T05:13:30.278036Z",
     "shell.execute_reply": "2022-02-14T05:13:30.277495Z",
     "shell.execute_reply.started": "2022-02-14T05:04:27.614007Z"
    },
    "papermill": {
     "duration": 0.488131,
     "end_time": "2022-02-14T05:13:30.278168",
     "exception": false,
     "start_time": "2022-02-14T05:13:29.790037",
     "status": "completed"
    },
    "tags": []
   },
   "outputs": [],
   "source": [
    "from cuml import LinearRegression\n",
    "import cuml"
   ]
  },
  {
   "cell_type": "markdown",
   "id": "fd9c27f0",
   "metadata": {
    "papermill": {
     "duration": 0.009121,
     "end_time": "2022-02-14T05:13:30.296775",
     "exception": false,
     "start_time": "2022-02-14T05:13:30.287654",
     "status": "completed"
    },
    "tags": []
   },
   "source": [
    "Error testing"
   ]
  },
  {
   "cell_type": "code",
   "execution_count": 8,
   "id": "86a1b3fd",
   "metadata": {
    "execution": {
     "iopub.execute_input": "2022-02-14T05:13:31.688584Z",
     "iopub.status.busy": "2022-02-14T05:13:31.687490Z",
     "iopub.status.idle": "2022-02-14T05:13:35.577784Z",
     "shell.execute_reply": "2022-02-14T05:13:35.577182Z",
     "shell.execute_reply.started": "2022-02-14T05:04:29.619575Z"
    },
    "papermill": {
     "duration": 5.271663,
     "end_time": "2022-02-14T05:13:35.577920",
     "exception": false,
     "start_time": "2022-02-14T05:13:30.306257",
     "status": "completed"
    },
    "tags": []
   },
   "outputs": [
    {
     "name": "stdout",
     "output_type": "stream",
     "text": [
      "svd\n",
      "Mean Sq Err: 139.59932404504897\n",
      "R2 Score: 0.7112260057484925\n",
      "Mean Abs Err: 8.983415627235024\n",
      "eig\n",
      "Mean Sq Err: 139.59932404504923\n",
      "R2 Score: 0.711226005748492\n",
      "Mean Abs Err: 8.983415627235035\n",
      "qr\n",
      "Mean Sq Err: 139.59932404504897\n",
      "R2 Score: 0.7112260057484925\n",
      "Mean Abs Err: 8.983415627235024\n",
      "svd-qr\n",
      "Mean Sq Err: 77.29709884147577\n",
      "R2 Score: -0.06387682173517528\n",
      "Mean Abs Err: 6.538584813856789\n",
      "svd-jacobi\n",
      "Mean Sq Err: 77.29709884147577\n",
      "R2 Score: -0.06387682173517528\n",
      "Mean Abs Err: 6.538584813856789\n"
     ]
    }
   ],
   "source": [
    "algo = ['svd', 'eig', 'qr', 'svd-qr', 'svd-jacobi']\n",
    "\n",
    "for item in algo:    \n",
    "    lr = LinearRegression(fit_intercept = True, normalize = False,algorithm = item)\n",
    "    reg = lr.fit(X_train,y_train)\n",
    "    preds = lr.predict(X_test)\n",
    "    print(item)\n",
    "    print(\"Mean Sq Err: \" + str(cuml.metrics.regression.mean_squared_error(y_test,preds)))\n",
    "    print(\"R2 Score: \"+str(cuml.metrics.regression.r2_score(y_test,preds)))\n",
    "    print(\"Mean Abs Err: \"+ str(cuml.metrics.regression.mean_absolute_error(y_test,preds)))"
   ]
  }
 ],
 "metadata": {
  "kernelspec": {
   "display_name": "Python 3",
   "language": "python",
   "name": "python3"
  },
  "language_info": {
   "codemirror_mode": {
    "name": "ipython",
    "version": 3
   },
   "file_extension": ".py",
   "mimetype": "text/x-python",
   "name": "python",
   "nbconvert_exporter": "python",
   "pygments_lexer": "ipython3",
   "version": "3.7.12"
  },
  "papermill": {
   "default_parameters": {},
   "duration": 21.581887,
   "end_time": "2022-02-14T05:13:36.899312",
   "environment_variables": {},
   "exception": null,
   "input_path": "__notebook__.ipynb",
   "output_path": "__notebook__.ipynb",
   "parameters": {},
   "start_time": "2022-02-14T05:13:15.317425",
   "version": "2.3.3"
  }
 },
 "nbformat": 4,
 "nbformat_minor": 5
}
